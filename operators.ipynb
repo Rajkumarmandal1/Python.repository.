{
  "cells": [
    {
      "cell_type": "markdown",
      "metadata": {
        "id": "Wf5KrEb6vrkR"
      },
      "source": [
        "<div class=\"markdown-google-sans\">\n",
        "  <h1>Welcome to Colab!</h1>\n",
        "</div>\n",
        "\n",
        "<div class=\"markdown-google-sans\">\n",
        "  <h2>Explore the Gemini API</h2>\n",
        "  <p>The Gemini API gives you access to Gemini models created by Google DeepMind. Gemini models are built from the ground up to be multimodal, so you can reason seamlessly across text, images, code, and audio.\n",
        "  </p>\n",
        "  <strong>How to get started</strong>\n",
        "    <ol>\n",
        "      <li>Go to <a href=\"https://aistudio.google.com/\">Google AI Studio</a> and log in with your Google account.</li>\n",
        "      <li><a href=\"https://aistudio.google.com/app/apikey\">Create an API key</a>.</li>\n",
        "      <li>Use a quickstart for <a href=\"https://colab.research.google.com/github/google-gemini/cookbook/blob/main/quickstarts/Prompting.ipynb\">Python</a>, or call the REST API using <a href=\"https://colab.research.google.com/github/google-gemini/cookbook/blob/main/quickstarts/rest/Prompting_REST.ipynb\">curl</a>.</li>\n",
        "      </ol>\n",
        "  <strong>Explore use cases</strong>\n",
        "    <ul>\n",
        "      <li><a href=\"https://colab.research.google.com/github/google-gemini/cookbook/blob/main/examples/Market_a_Jet_Backpack.ipynb\">Create a marketing campaign</a></li>\n",
        "      <li><a href=\"https://colab.research.google.com/github/google-gemini/cookbook/blob/main/quickstarts/Audio.ipynb\">Analyze audio recordings</a></li>\n",
        "      <li><a href=\"https://colab.research.google.com/github/google-gemini/cookbook/blob/main/quickstarts/System_instructions.ipynb\">Use System instructions in chat</a></li>\n",
        "    </ul>\n",
        "  <p>To learn more, check out the <a href=\"https://github.com/google-gemini/cookbook\">Gemini cookbook</a> or visit the <a href=\"https://ai.google.dev/docs/\">Gemini API documentation</a>.\n",
        "  </p>\n",
        "</div>\n"
      ]
    },
    {
      "cell_type": "code",
      "source": [],
      "metadata": {
        "id": "wJah0MSCqCSE"
      },
      "execution_count": null,
      "outputs": []
    },
    {
      "cell_type": "code",
      "source": [
        "L1[2]"
      ],
      "metadata": {
        "id": "MDmsbunHW-0X",
        "outputId": "6e551603-d105-41ed-e963-3e8ea87232d3",
        "colab": {
          "base_uri": "https://localhost:8080/"
        }
      },
      "execution_count": null,
      "outputs": [
        {
          "output_type": "execute_result",
          "data": {
            "text/plain": [
              "['China', 10, 25, -11.7, 6.9]"
            ]
          },
          "metadata": {},
          "execution_count": 3
        }
      ]
    },
    {
      "cell_type": "code",
      "source": [
        "L1[2][2]"
      ],
      "metadata": {
        "id": "gdGCTmBDXE_u",
        "outputId": "2cbfed3b-e1cf-4ed9-faf2-199bab8d87a7",
        "colab": {
          "base_uri": "https://localhost:8080/"
        }
      },
      "execution_count": null,
      "outputs": [
        {
          "output_type": "execute_result",
          "data": {
            "text/plain": [
              "25"
            ]
          },
          "metadata": {},
          "execution_count": 4
        }
      ]
    },
    {
      "cell_type": "code",
      "source": [
        "L1[2][-5]"
      ],
      "metadata": {
        "id": "b7kwSnU3XKDf",
        "outputId": "32057813-d3f0-4092-dc6c-7394edaa3498",
        "colab": {
          "base_uri": "https://localhost:8080/",
          "height": 35
        }
      },
      "execution_count": null,
      "outputs": [
        {
          "output_type": "execute_result",
          "data": {
            "text/plain": [
              "'China'"
            ],
            "application/vnd.google.colaboratory.intrinsic+json": {
              "type": "string"
            }
          },
          "metadata": {},
          "execution_count": 5
        }
      ]
    },
    {
      "cell_type": "code",
      "source": [
        "L1[2][0]"
      ],
      "metadata": {
        "id": "kZOXZpntXQCw",
        "outputId": "b262e909-db5e-430e-9764-0cc8acdd12ec",
        "colab": {
          "base_uri": "https://localhost:8080/",
          "height": 35
        }
      },
      "execution_count": null,
      "outputs": [
        {
          "output_type": "execute_result",
          "data": {
            "text/plain": [
              "'China'"
            ],
            "application/vnd.google.colaboratory.intrinsic+json": {
              "type": "string"
            }
          },
          "metadata": {},
          "execution_count": 6
        }
      ]
    },
    {
      "cell_type": "code",
      "source": [
        "#slicing in Nested list."
      ],
      "metadata": {
        "id": "e_ASB8MJXUK_"
      },
      "execution_count": null,
      "outputs": []
    },
    {
      "cell_type": "code",
      "source": [
        "L1[2][0:3]"
      ],
      "metadata": {
        "id": "dd_TLx_AXkT_",
        "outputId": "01ef0cb4-4602-43da-b02b-bb5201fa219b",
        "colab": {
          "base_uri": "https://localhost:8080/"
        }
      },
      "execution_count": null,
      "outputs": [
        {
          "output_type": "execute_result",
          "data": {
            "text/plain": [
              "['China', 10, 25]"
            ]
          },
          "metadata": {},
          "execution_count": 9
        }
      ]
    },
    {
      "cell_type": "code",
      "source": [
        "L1[1]"
      ],
      "metadata": {
        "id": "CqSk0MhKXuQi",
        "outputId": "1777f639-8c09-4792-ebfe-d494744dcaf0",
        "colab": {
          "base_uri": "https://localhost:8080/",
          "height": 35
        }
      },
      "execution_count": null,
      "outputs": [
        {
          "output_type": "execute_result",
          "data": {
            "text/plain": [
              "'USA'"
            ],
            "application/vnd.google.colaboratory.intrinsic+json": {
              "type": "string"
            }
          },
          "metadata": {},
          "execution_count": 10
        }
      ]
    },
    {
      "cell_type": "code",
      "source": [
        "#Tuple-- Round bracket is used in tuple, tuple is immutable, modification not here."
      ],
      "metadata": {
        "id": "cw94gNAuX7oh"
      },
      "execution_count": null,
      "outputs": []
    },
    {
      "cell_type": "code",
      "source": [
        "t=('India','USA','Russia','New delhi',25,900,-3.9,-0.8)"
      ],
      "metadata": {
        "id": "vt47Ri8vYPRV"
      },
      "execution_count": null,
      "outputs": []
    },
    {
      "cell_type": "code",
      "source": [
        "print(t)"
      ],
      "metadata": {
        "id": "nfGeckFGYg5F",
        "outputId": "dc1c55b9-cdeb-4961-c5f5-1eea4a51f47c",
        "colab": {
          "base_uri": "https://localhost:8080/"
        }
      },
      "execution_count": null,
      "outputs": [
        {
          "output_type": "stream",
          "name": "stdout",
          "text": [
            "('India', 'USA', 'Russia', 'New delhi', 25, 900, -3.9, -0.8)\n"
          ]
        }
      ]
    },
    {
      "cell_type": "code",
      "source": [
        "type(t)"
      ],
      "metadata": {
        "id": "lOgGcXvoYitx",
        "outputId": "f557bae4-d354-46e9-a4e8-2c01a91ddaee",
        "colab": {
          "base_uri": "https://localhost:8080/"
        }
      },
      "execution_count": null,
      "outputs": [
        {
          "output_type": "execute_result",
          "data": {
            "text/plain": [
              "tuple"
            ]
          },
          "metadata": {},
          "execution_count": 14
        }
      ]
    },
    {
      "cell_type": "code",
      "source": [
        "t[1]"
      ],
      "metadata": {
        "id": "4palnWplYkzA",
        "outputId": "36c9338f-8b03-4be6-bbb5-507498acc5ad",
        "colab": {
          "base_uri": "https://localhost:8080/",
          "height": 35
        }
      },
      "execution_count": null,
      "outputs": [
        {
          "output_type": "execute_result",
          "data": {
            "text/plain": [
              "'USA'"
            ],
            "application/vnd.google.colaboratory.intrinsic+json": {
              "type": "string"
            }
          },
          "metadata": {},
          "execution_count": 15
        }
      ]
    },
    {
      "cell_type": "code",
      "source": [
        "t[4]"
      ],
      "metadata": {
        "id": "wT2MQOydYmz8",
        "outputId": "71e3592c-6cdd-4296-a104-a979fffec1ae",
        "colab": {
          "base_uri": "https://localhost:8080/"
        }
      },
      "execution_count": null,
      "outputs": [
        {
          "output_type": "execute_result",
          "data": {
            "text/plain": [
              "25"
            ]
          },
          "metadata": {},
          "execution_count": 16
        }
      ]
    },
    {
      "cell_type": "code",
      "source": [
        "t[1:4]"
      ],
      "metadata": {
        "id": "H4KJXuSuYoSf",
        "outputId": "b5be5c6c-68eb-4ce4-a254-be4b08310c3f",
        "colab": {
          "base_uri": "https://localhost:8080/"
        }
      },
      "execution_count": null,
      "outputs": [
        {
          "output_type": "execute_result",
          "data": {
            "text/plain": [
              "('USA', 'Russia', 'New delhi')"
            ]
          },
          "metadata": {},
          "execution_count": 17
        }
      ]
    },
    {
      "cell_type": "code",
      "source": [
        "#Dictionary- for key value pair we are using dictionary. {} curly bracket used here , flower bracket"
      ],
      "metadata": {
        "id": "ymX3u8GKYtHU"
      },
      "execution_count": null,
      "outputs": []
    },
    {
      "cell_type": "code",
      "source": [
        "Memo={'Chips':50,'Ice cream':250,'Chocolate':300,'Pens':30,'Bread':45}"
      ],
      "metadata": {
        "id": "ytq-7vjjY_V-"
      },
      "execution_count": null,
      "outputs": []
    },
    {
      "cell_type": "code",
      "source": [
        "print(Memo)"
      ],
      "metadata": {
        "id": "vy1W0-7CZp1P",
        "outputId": "cc95aa56-255f-4340-f459-8f1f6cc89c10",
        "colab": {
          "base_uri": "https://localhost:8080/"
        }
      },
      "execution_count": null,
      "outputs": [
        {
          "output_type": "stream",
          "name": "stdout",
          "text": [
            "{'Chips': 50, 'Ice cream': 250, 'Chocolate': 300, 'Pens': 30, 'Bread': 45}\n"
          ]
        }
      ]
    },
    {
      "cell_type": "code",
      "source": [
        "Memo.keys()"
      ],
      "metadata": {
        "id": "TwBnQ5pOZr6l",
        "outputId": "7983017d-b5f9-4159-b859-3348551dce16",
        "colab": {
          "base_uri": "https://localhost:8080/"
        }
      },
      "execution_count": null,
      "outputs": [
        {
          "output_type": "execute_result",
          "data": {
            "text/plain": [
              "dict_keys(['Chips', 'Ice cream', 'Chocolate', 'Pens', 'Bread'])"
            ]
          },
          "metadata": {},
          "execution_count": 21
        }
      ]
    },
    {
      "cell_type": "code",
      "source": [
        "Memo.values()"
      ],
      "metadata": {
        "id": "WtT8hTbYZzTK",
        "outputId": "00fb688b-90ca-437c-e73f-391af7999ff6",
        "colab": {
          "base_uri": "https://localhost:8080/"
        }
      },
      "execution_count": null,
      "outputs": [
        {
          "output_type": "execute_result",
          "data": {
            "text/plain": [
              "dict_values([50, 250, 300, 30, 45])"
            ]
          },
          "metadata": {},
          "execution_count": 22
        }
      ]
    },
    {
      "cell_type": "code",
      "source": [
        "#adding--"
      ],
      "metadata": {
        "id": "ZwtjPmCmZ5gV"
      },
      "execution_count": null,
      "outputs": []
    },
    {
      "cell_type": "code",
      "source": [
        "Memo['Notebook']=100"
      ],
      "metadata": {
        "id": "VNH3m5RyZ-0o"
      },
      "execution_count": null,
      "outputs": []
    },
    {
      "cell_type": "code",
      "source": [
        "print(Memo)"
      ],
      "metadata": {
        "id": "O6cjDss2aDXf",
        "outputId": "8d6ea4cc-1c0b-4a2e-c8cb-780c7077df21",
        "colab": {
          "base_uri": "https://localhost:8080/"
        }
      },
      "execution_count": null,
      "outputs": [
        {
          "output_type": "stream",
          "name": "stdout",
          "text": [
            "{'Chips': 50, 'Ice cream': 250, 'Chocolate': 300, 'Pens': 30, 'Bread': 45, 'Notebook': 100}\n"
          ]
        }
      ]
    },
    {
      "cell_type": "code",
      "source": [
        "#pop-- to delete last item"
      ],
      "metadata": {
        "id": "XyA7YviZaE5f"
      },
      "execution_count": null,
      "outputs": []
    },
    {
      "cell_type": "code",
      "source": [
        "Memo.popitem()"
      ],
      "metadata": {
        "id": "t_PzLBW5aLuv",
        "outputId": "3a12d319-e615-4ea3-ff52-c28aabfa13fe",
        "colab": {
          "base_uri": "https://localhost:8080/"
        }
      },
      "execution_count": null,
      "outputs": [
        {
          "output_type": "execute_result",
          "data": {
            "text/plain": [
              "('Notebook', 100)"
            ]
          },
          "metadata": {},
          "execution_count": 29
        }
      ]
    },
    {
      "cell_type": "code",
      "source": [
        "Memo.clear()"
      ],
      "metadata": {
        "id": "L_XH2IbnaQ2Y"
      },
      "execution_count": null,
      "outputs": []
    },
    {
      "cell_type": "code",
      "source": [
        "print(Memo)"
      ],
      "metadata": {
        "id": "0F4KzDCPaaLC",
        "outputId": "117b9686-c2b6-42cd-d1e8-4068d9ee3f6b",
        "colab": {
          "base_uri": "https://localhost:8080/"
        }
      },
      "execution_count": null,
      "outputs": [
        {
          "output_type": "stream",
          "name": "stdout",
          "text": [
            "{}\n"
          ]
        }
      ]
    },
    {
      "cell_type": "code",
      "source": [
        "Data={'Name':'Bob','Age':25,'Salary':35000,'City':'New york'}"
      ],
      "metadata": {
        "id": "7OIOv-QyagLh"
      },
      "execution_count": null,
      "outputs": []
    },
    {
      "cell_type": "code",
      "source": [
        "print(Data)"
      ],
      "metadata": {
        "id": "uU069naWa3HL",
        "outputId": "a80f9ed6-9df6-4669-9dd8-c4519034fa30",
        "colab": {
          "base_uri": "https://localhost:8080/"
        }
      },
      "execution_count": null,
      "outputs": [
        {
          "output_type": "stream",
          "name": "stdout",
          "text": [
            "{'Name': 'Bob', 'Age': 25, 'Salary': 35000, 'City': 'New york'}\n"
          ]
        }
      ]
    },
    {
      "cell_type": "code",
      "source": [
        "Data['Designation']='Software Engg'"
      ],
      "metadata": {
        "id": "wPtk4mf9a4w5"
      },
      "execution_count": null,
      "outputs": []
    },
    {
      "cell_type": "code",
      "source": [
        "print(Data)"
      ],
      "metadata": {
        "id": "0hNfst9EbQ5Z",
        "outputId": "df07041e-6285-42ec-eb7d-5a63ca506653",
        "colab": {
          "base_uri": "https://localhost:8080/"
        }
      },
      "execution_count": null,
      "outputs": [
        {
          "output_type": "stream",
          "name": "stdout",
          "text": [
            "{'Name': 'Bob', 'Age': 25, 'Salary': 35000, 'City': 'New york', 'Designation': 'Software Engg'}\n"
          ]
        }
      ]
    },
    {
      "cell_type": "code",
      "source": [
        "Data['Salary']"
      ],
      "metadata": {
        "id": "bm8AmHfYbSnJ",
        "outputId": "2b212d95-2732-4b0f-87ba-ddcb1c43a6e9",
        "colab": {
          "base_uri": "https://localhost:8080/"
        }
      },
      "execution_count": null,
      "outputs": [
        {
          "output_type": "execute_result",
          "data": {
            "text/plain": [
              "35000"
            ]
          },
          "metadata": {},
          "execution_count": 42
        }
      ]
    },
    {
      "cell_type": "code",
      "source": [
        "Data['Salary']=55000"
      ],
      "metadata": {
        "id": "ac6FzVagbdSw"
      },
      "execution_count": null,
      "outputs": []
    },
    {
      "cell_type": "code",
      "source": [
        "print(Data)"
      ],
      "metadata": {
        "id": "v6rxLN23bm1Z",
        "outputId": "62f7c8d5-3454-40dc-df7f-d41015ceaaca",
        "colab": {
          "base_uri": "https://localhost:8080/"
        }
      },
      "execution_count": null,
      "outputs": [
        {
          "output_type": "stream",
          "name": "stdout",
          "text": [
            "{'Name': 'Bob', 'Age': 25, 'Salary': 55000, 'City': 'New york', 'Designation': 'Software Engg'}\n"
          ]
        }
      ]
    },
    {
      "cell_type": "code",
      "source": [
        "del Data['Age']"
      ],
      "metadata": {
        "id": "XO5EZSr0bovJ"
      },
      "execution_count": null,
      "outputs": []
    },
    {
      "cell_type": "code",
      "source": [
        "print(Data)"
      ],
      "metadata": {
        "id": "WBfiCwnubv6l",
        "outputId": "f771585d-39f8-47cd-ed7d-80ce910d7002",
        "colab": {
          "base_uri": "https://localhost:8080/"
        }
      },
      "execution_count": null,
      "outputs": [
        {
          "output_type": "stream",
          "name": "stdout",
          "text": [
            "{'Name': 'Bob', 'Salary': 55000, 'City': 'New york', 'Designation': 'Software Engg'}\n"
          ]
        }
      ]
    },
    {
      "cell_type": "code",
      "source": [
        "#operator"
      ],
      "metadata": {
        "id": "64O3Jawdbx-T"
      },
      "execution_count": null,
      "outputs": []
    },
    {
      "cell_type": "code",
      "source": [
        "a=10\n",
        "name='Rajkumar'"
      ],
      "metadata": {
        "id": "jEavTtQCqdr9"
      },
      "execution_count": null,
      "outputs": []
    },
    {
      "cell_type": "code",
      "source": [
        "name=input('enter your name') #bydefault the datatype will always be string in nature"
      ],
      "metadata": {
        "colab": {
          "base_uri": "https://localhost:8080/"
        },
        "id": "Zd-JYcYdqjTE",
        "outputId": "73032ebf-f7b9-47e7-c9ce-c01ee2c445b5"
      },
      "execution_count": null,
      "outputs": [
        {
          "name": "stdout",
          "output_type": "stream",
          "text": [
            "enter your namemeera\n"
          ]
        }
      ]
    },
    {
      "cell_type": "code",
      "source": [
        "print(name)"
      ],
      "metadata": {
        "colab": {
          "base_uri": "https://localhost:8080/"
        },
        "id": "ZEMR1E1XqwPT",
        "outputId": "9002fa9f-a11c-4e11-c9f2-39aff9572291"
      },
      "execution_count": null,
      "outputs": [
        {
          "output_type": "stream",
          "name": "stdout",
          "text": [
            "1233\n"
          ]
        }
      ]
    },
    {
      "cell_type": "code",
      "source": [
        "type(name)"
      ],
      "metadata": {
        "colab": {
          "base_uri": "https://localhost:8080/"
        },
        "id": "BoGsXUctq76w",
        "outputId": "7dc10d94-6404-42d9-80f4-2f9a235c88b6"
      },
      "execution_count": null,
      "outputs": [
        {
          "output_type": "execute_result",
          "data": {
            "text/plain": [
              "str"
            ]
          },
          "metadata": {},
          "execution_count": 5
        }
      ]
    },
    {
      "cell_type": "code",
      "source": [
        "#typecasting--- a restruction on top of the input()"
      ],
      "metadata": {
        "id": "JQzb8SXyq-cz"
      },
      "execution_count": null,
      "outputs": []
    },
    {
      "cell_type": "code",
      "source": [
        "otp=input('enter your 4 digit otp')"
      ],
      "metadata": {
        "colab": {
          "base_uri": "https://localhost:8080/"
        },
        "id": "cSo0ia7Yryqi",
        "outputId": "4a0686eb-1bc8-4936-bc14-615d4dbdcf99"
      },
      "execution_count": null,
      "outputs": [
        {
          "name": "stdout",
          "output_type": "stream",
          "text": [
            "enter your 4 digit otpjklm\n"
          ]
        }
      ]
    },
    {
      "cell_type": "code",
      "source": [
        "print(otp)"
      ],
      "metadata": {
        "colab": {
          "base_uri": "https://localhost:8080/"
        },
        "id": "liZH2mI7r7-Q",
        "outputId": "76687ad1-e79b-4586-f004-f9045c00dee0"
      },
      "execution_count": null,
      "outputs": [
        {
          "output_type": "stream",
          "name": "stdout",
          "text": [
            "jklm\n"
          ]
        }
      ]
    },
    {
      "cell_type": "code",
      "source": [
        "type(otp)"
      ],
      "metadata": {
        "colab": {
          "base_uri": "https://localhost:8080/"
        },
        "id": "FNXX2MZ9sXbv",
        "outputId": "3d76e765-fe91-48e2-a2e3-6acad6d3acd0"
      },
      "execution_count": null,
      "outputs": [
        {
          "output_type": "execute_result",
          "data": {
            "text/plain": [
              "str"
            ]
          },
          "metadata": {},
          "execution_count": 16
        }
      ]
    },
    {
      "cell_type": "code",
      "source": [
        "OTP=int(input('enter your 4 digit OTP'))"
      ],
      "metadata": {
        "colab": {
          "base_uri": "https://localhost:8080/"
        },
        "id": "Qib-Cg4zvKH7",
        "outputId": "15bcb02e-8cb3-43ea-c61f-94ec54ca49be"
      },
      "execution_count": null,
      "outputs": [
        {
          "name": "stdout",
          "output_type": "stream",
          "text": [
            "enter your 4 digit OTP2564\n"
          ]
        }
      ]
    },
    {
      "cell_type": "code",
      "source": [
        "print(OTP)"
      ],
      "metadata": {
        "colab": {
          "base_uri": "https://localhost:8080/"
        },
        "id": "wP39Z02MviPu",
        "outputId": "0456e0aa-18e9-411e-89af-c2bf608f7b3f"
      },
      "execution_count": null,
      "outputs": [
        {
          "output_type": "stream",
          "name": "stdout",
          "text": [
            "2564\n"
          ]
        }
      ]
    },
    {
      "cell_type": "code",
      "source": [
        "type(OTP)"
      ],
      "metadata": {
        "colab": {
          "base_uri": "https://localhost:8080/"
        },
        "id": "VljAS7gnvmJR",
        "outputId": "4c821e22-acf5-4b01-f122-5574efe9b3d7"
      },
      "execution_count": null,
      "outputs": [
        {
          "output_type": "execute_result",
          "data": {
            "text/plain": [
              "int"
            ]
          },
          "metadata": {},
          "execution_count": 22
        }
      ]
    },
    {
      "cell_type": "code",
      "source": [
        "temp=float(input('enter temp of your city'))"
      ],
      "metadata": {
        "colab": {
          "base_uri": "https://localhost:8080/"
        },
        "id": "OMcfgzUcv2rF",
        "outputId": "3971fbad-18c3-4f76-cd9f-0036c237f8d2"
      },
      "execution_count": null,
      "outputs": [
        {
          "name": "stdout",
          "output_type": "stream",
          "text": [
            "enter temp of your city44\n"
          ]
        }
      ]
    },
    {
      "cell_type": "code",
      "source": [
        "print(temp)"
      ],
      "metadata": {
        "colab": {
          "base_uri": "https://localhost:8080/"
        },
        "id": "5sRVYESYwJOm",
        "outputId": "6ef49692-c9a8-494e-cab6-5d605ec37ddc"
      },
      "execution_count": null,
      "outputs": [
        {
          "output_type": "stream",
          "name": "stdout",
          "text": [
            "44.0\n"
          ]
        }
      ]
    },
    {
      "cell_type": "code",
      "source": [
        "type(temp)"
      ],
      "metadata": {
        "colab": {
          "base_uri": "https://localhost:8080/"
        },
        "id": "rrLxmVY2wOVo",
        "outputId": "c3c4d1cf-1e0d-438e-85e9-03e27ca55cb7"
      },
      "execution_count": null,
      "outputs": [
        {
          "output_type": "execute_result",
          "data": {
            "text/plain": [
              "float"
            ]
          },
          "metadata": {},
          "execution_count": 39
        }
      ]
    },
    {
      "cell_type": "markdown",
      "source": [
        "operators\n",
        "\n",
        "1. Arithmatic operator\n",
        "2. Assigment operator\n",
        "3. Logical operators\n",
        "4. Comparision operators"
      ],
      "metadata": {
        "id": "cnha27fAya0z"
      }
    },
    {
      "cell_type": "code",
      "source": [
        "#Airthmatic operator- addition, subtraction, multiplication, division"
      ],
      "metadata": {
        "id": "ggRu2fgIwRcC"
      },
      "execution_count": null,
      "outputs": []
    },
    {
      "cell_type": "code",
      "source": [
        "num_1=10\n",
        "num_2=20\n",
        "\n",
        "print(num_1+num_2)\n",
        "print(num_1-num_2)\n",
        "print(num_1*num_2)\n",
        "print(num_1/num_2) #single forward slash-- float division\n",
        "print(num_1//num_2) #double forward slash--integer division"
      ],
      "metadata": {
        "colab": {
          "base_uri": "https://localhost:8080/"
        },
        "id": "z5PzXNZuzfqW",
        "outputId": "09b376ed-e5ea-4a19-c9aa-f56409362eab"
      },
      "execution_count": null,
      "outputs": [
        {
          "output_type": "stream",
          "name": "stdout",
          "text": [
            "30\n",
            "-10\n",
            "200\n",
            "0.5\n",
            "0\n"
          ]
        }
      ]
    },
    {
      "cell_type": "code",
      "source": [
        "a=2 #raise the power of 2 by 5-- 2^5\n",
        "print(a**5)  #base**power"
      ],
      "metadata": {
        "colab": {
          "base_uri": "https://localhost:8080/"
        },
        "id": "Lt5-9xsGzqqo",
        "outputId": "f899196f-0baf-47ad-8d1f-59f92a40e241"
      },
      "execution_count": null,
      "outputs": [
        {
          "output_type": "stream",
          "name": "stdout",
          "text": [
            "32\n"
          ]
        }
      ]
    },
    {
      "cell_type": "code",
      "source": [
        "b=7 #raise the power of 7 by 25-- 7^25\n",
        "print(b**25)"
      ],
      "metadata": {
        "colab": {
          "base_uri": "https://localhost:8080/"
        },
        "id": "lFMCW_KC1iB1",
        "outputId": "9c3fa8cd-c484-4aa9-e547-44e6b55a372b"
      },
      "execution_count": null,
      "outputs": [
        {
          "output_type": "stream",
          "name": "stdout",
          "text": [
            "1341068619663964900807\n"
          ]
        }
      ]
    },
    {
      "cell_type": "code",
      "source": [
        "#modulo operator % -- use"
      ],
      "metadata": {
        "id": "ZFtQD5sA1xIe"
      },
      "execution_count": null,
      "outputs": []
    },
    {
      "cell_type": "code",
      "source": [
        "a=10\n",
        "b=3\n",
        "\n",
        "print(a%b) #a and b will be divided and the remainder of the division operation will be displayed."
      ],
      "metadata": {
        "colab": {
          "base_uri": "https://localhost:8080/"
        },
        "id": "cptWsn9G2ONj",
        "outputId": "3222f6ee-b575-4163-c9d5-59abc03ba041"
      },
      "execution_count": null,
      "outputs": [
        {
          "output_type": "stream",
          "name": "stdout",
          "text": [
            "1\n"
          ]
        }
      ]
    },
    {
      "cell_type": "code",
      "source": [
        "a=10\n",
        "b=2\n",
        "print(a%b)"
      ],
      "metadata": {
        "colab": {
          "base_uri": "https://localhost:8080/"
        },
        "id": "wGrE8ohG2ZpY",
        "outputId": "de650796-c036-48f5-b4c4-e82dc5ba4db8"
      },
      "execution_count": null,
      "outputs": [
        {
          "output_type": "stream",
          "name": "stdout",
          "text": [
            "0\n"
          ]
        }
      ]
    },
    {
      "cell_type": "code",
      "source": [
        "#comparision operators-  compairing the values"
      ],
      "metadata": {
        "id": "lsPZZC8727PE"
      },
      "execution_count": null,
      "outputs": []
    },
    {
      "cell_type": "code",
      "source": [
        "a=10\n",
        "b=20\n",
        "\n",
        "print(a>b)\n",
        "print(a<b)\n",
        "print(a>=b)\n",
        "print(a<=b)\n",
        "print(a==b)\n",
        "print(a!=b) #!= not equal to"
      ],
      "metadata": {
        "colab": {
          "base_uri": "https://localhost:8080/"
        },
        "id": "xpmQX6dS3Zyd",
        "outputId": "7c542d42-11de-403a-e90a-9a8c552ce3fe"
      },
      "execution_count": null,
      "outputs": [
        {
          "output_type": "stream",
          "name": "stdout",
          "text": [
            "False\n",
            "True\n",
            "False\n",
            "True\n",
            "False\n",
            "True\n"
          ]
        }
      ]
    },
    {
      "cell_type": "code",
      "source": [
        "# a==b means  condition checking or you can call it a comparison operator which checks whether the value of a and b are equal or not"
      ],
      "metadata": {
        "id": "tR0FuaP434ib"
      },
      "execution_count": null,
      "outputs": []
    },
    {
      "cell_type": "code",
      "source": [
        "#logical operators-- AND, OR, NOT"
      ],
      "metadata": {
        "id": "KNwPg4S-4oBt"
      },
      "execution_count": 1,
      "outputs": []
    },
    {
      "cell_type": "code",
      "source": [
        "print(True and True)\n",
        "print(True and False)\n",
        "print(False and True)\n",
        "print(False and False)"
      ],
      "metadata": {
        "colab": {
          "base_uri": "https://localhost:8080/"
        },
        "id": "PEgnnrpPkhSh",
        "outputId": "3b13911e-3773-4d9c-e29c-22adcb12a00b"
      },
      "execution_count": 3,
      "outputs": [
        {
          "output_type": "stream",
          "name": "stdout",
          "text": [
            "True\n",
            "False\n",
            "False\n",
            "False\n"
          ]
        }
      ]
    },
    {
      "cell_type": "code",
      "source": [
        "print(True or True)\n",
        "print(True or False)\n",
        "print(False or True)\n",
        "print(False or False)"
      ],
      "metadata": {
        "colab": {
          "base_uri": "https://localhost:8080/"
        },
        "id": "xm1Je-YRlgyj",
        "outputId": "8a49d7f9-24e3-4556-8db5-a73d654819eb"
      },
      "execution_count": 4,
      "outputs": [
        {
          "output_type": "stream",
          "name": "stdout",
          "text": [
            "True\n",
            "True\n",
            "True\n",
            "False\n"
          ]
        }
      ]
    },
    {
      "cell_type": "code",
      "source": [
        "print(not False)\n",
        "print(not True)"
      ],
      "metadata": {
        "colab": {
          "base_uri": "https://localhost:8080/"
        },
        "id": "zzVJ3K9RmNXt",
        "outputId": "9c864247-8839-4b8d-babf-1c1b5e073cca"
      },
      "execution_count": 5,
      "outputs": [
        {
          "output_type": "stream",
          "name": "stdout",
          "text": [
            "True\n",
            "False\n"
          ]
        }
      ]
    },
    {
      "cell_type": "code",
      "source": [],
      "metadata": {
        "id": "gyXacY9AmaLh"
      },
      "execution_count": null,
      "outputs": []
    }
  ],
  "metadata": {
    "colab": {
      "provenance": []
    },
    "kernelspec": {
      "display_name": "Python 3",
      "name": "python3"
    }
  },
  "nbformat": 4,
  "nbformat_minor": 0
}